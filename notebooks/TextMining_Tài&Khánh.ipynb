{
  "nbformat": 4,
  "nbformat_minor": 0,
  "metadata": {
    "colab": {
      "name": "TextMining_Tài&Khánh.ipynb",
      "provenance": [],
      "collapsed_sections": []
    },
    "kernelspec": {
      "name": "python3",
      "display_name": "Python 3"
    },
    "accelerator": "GPU"
  },
  "cells": [
    {
      "cell_type": "markdown",
      "metadata": {
        "id": "LIUk1MSdlL8K"
      },
      "source": [
        "**Sentiment Analysis**"
      ]
    },
    {
      "cell_type": "code",
      "metadata": {
        "id": "HYZ4Y9fplRgL",
        "colab": {
          "base_uri": "https://localhost:8080/"
        },
        "outputId": "7975f89d-af48-4e2d-d715-572fd07a04f2"
      },
      "source": [
        "cd /content/drive/My Drive/TextMining/pro\n"
      ],
      "execution_count": null,
      "outputs": [
        {
          "output_type": "stream",
          "text": [
            "/content/drive/My Drive/TextMining/pro\n"
          ],
          "name": "stdout"
        }
      ]
    },
    {
      "cell_type": "code",
      "metadata": {
        "id": "FEMdGyHtss67"
      },
      "source": [
        "import urllib.request\n",
        "import os\n",
        "import pandas as pd\n",
        "import numpy as np\n",
        "from nltk.tokenize import RegexpTokenizer\n",
        "from nltk.stem.porter import PorterStemmer\n",
        "from nltk.corpus import stopwords"
      ],
      "execution_count": null,
      "outputs": []
    },
    {
      "cell_type": "code",
      "metadata": {
        "colab": {
          "base_uri": "https://localhost:8080/"
        },
        "id": "MK1_FTvBvH9F",
        "outputId": "76402c84-c3ad-4a05-8976-703ed1072bea"
      },
      "source": [
        "import nltk\n",
        "nltk.download('stopwords')"
      ],
      "execution_count": null,
      "outputs": [
        {
          "output_type": "stream",
          "text": [
            "[nltk_data] Downloading package stopwords to /root/nltk_data...\n",
            "[nltk_data]   Unzipping corpora/stopwords.zip.\n"
          ],
          "name": "stdout"
        },
        {
          "output_type": "execute_result",
          "data": {
            "text/plain": [
              "True"
            ]
          },
          "metadata": {
            "tags": []
          },
          "execution_count": 3
        }
      ]
    },
    {
      "cell_type": "code",
      "metadata": {
        "id": "A6ILCLRztowW",
        "colab": {
          "base_uri": "https://localhost:8080/",
          "height": 135
        },
        "outputId": "fc6efd31-dd4d-4a12-c32a-610b61210235"
      },
      "source": [
        "df = pd.read_csv('/content/drive/My Drive/TextMining/pro/dataset/movie_data.csv',encoding='utf-8')\n",
        "df.head(3)"
      ],
      "execution_count": null,
      "outputs": [
        {
          "output_type": "execute_result",
          "data": {
            "text/html": [
              "<div>\n",
              "<style scoped>\n",
              "    .dataframe tbody tr th:only-of-type {\n",
              "        vertical-align: middle;\n",
              "    }\n",
              "\n",
              "    .dataframe tbody tr th {\n",
              "        vertical-align: top;\n",
              "    }\n",
              "\n",
              "    .dataframe thead th {\n",
              "        text-align: right;\n",
              "    }\n",
              "</style>\n",
              "<table border=\"1\" class=\"dataframe\">\n",
              "  <thead>\n",
              "    <tr style=\"text-align: right;\">\n",
              "      <th></th>\n",
              "      <th>review</th>\n",
              "      <th>sentiment</th>\n",
              "    </tr>\n",
              "  </thead>\n",
              "  <tbody>\n",
              "    <tr>\n",
              "      <th>0</th>\n",
              "      <td>In 1974, the teenager Martha Moxley (Maggie Gr...</td>\n",
              "      <td>1</td>\n",
              "    </tr>\n",
              "    <tr>\n",
              "      <th>1</th>\n",
              "      <td>OK... so... I really like Kris Kristofferson a...</td>\n",
              "      <td>0</td>\n",
              "    </tr>\n",
              "    <tr>\n",
              "      <th>2</th>\n",
              "      <td>***SPOILER*** Do not read this, if you think a...</td>\n",
              "      <td>0</td>\n",
              "    </tr>\n",
              "  </tbody>\n",
              "</table>\n",
              "</div>"
            ],
            "text/plain": [
              "                                              review  sentiment\n",
              "0  In 1974, the teenager Martha Moxley (Maggie Gr...          1\n",
              "1  OK... so... I really like Kris Kristofferson a...          0\n",
              "2  ***SPOILER*** Do not read this, if you think a...          0"
            ]
          },
          "metadata": {
            "tags": []
          },
          "execution_count": 4
        }
      ]
    },
    {
      "cell_type": "code",
      "metadata": {
        "id": "GeValasLt4A-",
        "colab": {
          "base_uri": "https://localhost:8080/"
        },
        "outputId": "2e60c9d9-0561-47a3-d9e9-e2ae95893a05"
      },
      "source": [
        "tokenizer=RegexpTokenizer(r'\\w+')\n",
        "en_stopwords=set(stopwords.words('english'))\n",
        "ps=PorterStemmer()\n",
        "tokenizer"
      ],
      "execution_count": null,
      "outputs": [
        {
          "output_type": "execute_result",
          "data": {
            "text/plain": [
              "RegexpTokenizer(pattern='\\\\w+', gaps=False, discard_empty=True, flags=<RegexFlag.UNICODE|DOTALL|MULTILINE: 56>)"
            ]
          },
          "metadata": {
            "tags": []
          },
          "execution_count": 5
        }
      ]
    },
    {
      "cell_type": "code",
      "metadata": {
        "colab": {
          "base_uri": "https://localhost:8080/",
          "height": 142
        },
        "id": "XB0DeLDg2jEJ",
        "outputId": "3aff1375-5916-4a4e-ca4c-a1b023e3c806"
      },
      "source": [
        "test = df['review'][1]\n",
        "test = test.lower()\n",
        "test"
      ],
      "execution_count": null,
      "outputs": [
        {
          "output_type": "execute_result",
          "data": {
            "application/vnd.google.colaboratory.intrinsic+json": {
              "type": "string"
            },
            "text/plain": [
              "\"ok... so... i really like kris kristofferson and his usual easy going delivery of lines in his movies. age has helped him with his soft spoken low energy style and he will steal a scene effortlessly. but, disappearance is his misstep. holy moly, this was a bad movie! <br /><br />i must give kudos to the cinematography and and the actors, including kris, for trying their darndest to make sense from this goofy, confusing story! none of it made sense and kris probably didn't understand it either and he was just going through the motions hoping someone would come up to him and tell him what it was all about! <br /><br />i don't care that everyone on this movie was doing out of love for the project, or some such nonsense... i've seen low budget movies that had a plot for goodness sake! this had none, zilcho, nada, zippo, empty of reason... a complete waste of good talent, scenery and celluloid! <br /><br />i rented this piece of garbage for a buck, and i want my money back! i want my 2 hours back i invested on this grade f waste of my time! don't watch this movie, or waste 1 minute of your valuable time while passing through a room where it's playing or even open up the case that is holding the dvd! believe me, you'll thank me for the advice!\""
            ]
          },
          "metadata": {
            "tags": []
          },
          "execution_count": 32
        }
      ]
    },
    {
      "cell_type": "code",
      "metadata": {
        "colab": {
          "base_uri": "https://localhost:8080/"
        },
        "id": "7h3clA6K0rv4",
        "outputId": "8f7547f2-471f-4218-a0c1-1ca9c4dbd331"
      },
      "source": [
        "test = \"I'm so HAPPY.\"\n",
        "test = test.lower()\n",
        "test = test.replace(\"<br /><br />\",\" \")\n",
        "tokens = tokenizer.tokenize(test)\n",
        "new_tokens=[token for token in tokens if token not in  en_stopwords]\n",
        "stemmed_tokens=[ps.stem(token) for token in new_tokens]\n",
        "stemmed_tokens\n",
        "\n"
      ],
      "execution_count": null,
      "outputs": [
        {
          "output_type": "execute_result",
          "data": {
            "text/plain": [
              "['happi']"
            ]
          },
          "metadata": {
            "tags": []
          },
          "execution_count": 10
        }
      ]
    },
    {
      "cell_type": "code",
      "metadata": {
        "id": "7-xp7AJdvODJ"
      },
      "source": [
        "def getStemmedReview(review):\n",
        "    review=review.lower()\n",
        "    review=review.replace(\"<br /><br />\",\" \")\n",
        "    #Tokenize\n",
        "    tokens=tokenizer.tokenize(review)\n",
        "    new_tokens=[token for token in tokens if token not in  en_stopwords]\n",
        "    stemmed_tokens=[ps.stem(token) for token in new_tokens]\n",
        "    clean_review=' '.join(stemmed_tokens)\n",
        "    return clean_review"
      ],
      "execution_count": null,
      "outputs": []
    },
    {
      "cell_type": "markdown",
      "metadata": {
        "id": "N2fDY1iIzrCs"
      },
      "source": [
        "**Slipt data**\n"
      ]
    },
    {
      "cell_type": "code",
      "metadata": {
        "id": "-00wbTUzuA8b"
      },
      "source": [
        "df['review'].apply(getStemmedReview)\n",
        "X_train = df.loc[:35000, 'review'].values\n",
        "y_train = df.loc[:35000, 'sentiment'].values\n",
        "X_test = df.loc[35000:, 'review'].values\n",
        "y_test = df.loc[35000:, 'sentiment'].values"
      ],
      "execution_count": null,
      "outputs": []
    },
    {
      "cell_type": "markdown",
      "metadata": {
        "id": "abCiLG-8z6pz"
      },
      "source": [
        "**Tranform text to vector**\n"
      ]
    },
    {
      "cell_type": "code",
      "metadata": {
        "colab": {
          "base_uri": "https://localhost:8080/"
        },
        "id": "Jvkbvvsawvib",
        "outputId": "618e9c8b-490a-4efe-f6af-8b7c35276121"
      },
      "source": [
        "from sklearn.feature_extraction.text import TfidfVectorizer\n",
        "vectorizer = TfidfVectorizer(sublinear_tf=True, encoding='utf-8',decode_error='ignore')\n",
        "vectorizer.fit(X_train)\n",
        "X_train=vectorizer.transform(X_train)\n",
        "X_test=vectorizer.transform(X_test)\n",
        "X_train"
      ],
      "execution_count": null,
      "outputs": [
        {
          "output_type": "execute_result",
          "data": {
            "text/plain": [
              "<35001x87888 sparse matrix of type '<class 'numpy.float64'>'\n",
              "\twith 4772792 stored elements in Compressed Sparse Row format>"
            ]
          },
          "metadata": {
            "tags": []
          },
          "execution_count": 21
        }
      ]
    },
    {
      "cell_type": "markdown",
      "metadata": {
        "id": "hP5VCru70JfI"
      },
      "source": [
        "**Train**"
      ]
    },
    {
      "cell_type": "code",
      "metadata": {
        "colab": {
          "base_uri": "https://localhost:8080/"
        },
        "id": "_3DK1Wbxw1ux",
        "outputId": "a0a73f8d-f88e-4219-b09c-da75707e4ef4"
      },
      "source": [
        "from sklearn.linear_model import LogisticRegression\n",
        "model=LogisticRegression(solver='liblinear')\n",
        "model.fit(X_train,y_train)\n",
        "print(\"Score on training data is: \"+str(model.score(X_train,y_train)))\n",
        "print(\"Score on testing data is: \"+str(model.score(X_test,y_test)))"
      ],
      "execution_count": null,
      "outputs": [
        {
          "output_type": "stream",
          "text": [
            "Score on training data is: 0.935973257906917\n",
            "Score on testing data is: 0.8976666666666666\n"
          ],
          "name": "stdout"
        }
      ]
    },
    {
      "cell_type": "markdown",
      "metadata": {
        "id": "2_Ltvd_N0PiM"
      },
      "source": [
        "**Save**"
      ]
    },
    {
      "cell_type": "code",
      "metadata": {
        "colab": {
          "base_uri": "https://localhost:8080/"
        },
        "id": "bRL_L798xs1j",
        "outputId": "3c696562-53e3-4175-c19f-a761fb6ef4ec"
      },
      "source": [
        "import sklearn.externals\n",
        "import joblib\n",
        "joblib.dump(en_stopwords,'/content/sample_data/stopwords.pkl')\n",
        "joblib.dump(model,'/content/sample_data/model.pkl')\n",
        "joblib.dump(vectorizer,'/content/sample_data/vectorizer.pkl')"
      ],
      "execution_count": null,
      "outputs": [
        {
          "output_type": "execute_result",
          "data": {
            "text/plain": [
              "['/content/sample_data/vectorizer.pkl']"
            ]
          },
          "metadata": {
            "tags": []
          },
          "execution_count": 35
        }
      ]
    },
    {
      "cell_type": "code",
      "metadata": {
        "id": "XOyANOwgkKba"
      },
      "source": [
        ""
      ],
      "execution_count": null,
      "outputs": []
    }
  ]
}